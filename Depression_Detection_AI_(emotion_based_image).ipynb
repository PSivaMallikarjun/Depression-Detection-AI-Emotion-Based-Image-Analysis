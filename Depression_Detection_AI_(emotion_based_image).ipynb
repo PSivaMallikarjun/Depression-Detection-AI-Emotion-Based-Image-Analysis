{
  "nbformat": 4,
  "nbformat_minor": 0,
  "metadata": {
    "colab": {
      "provenance": [],
      "authorship_tag": "ABX9TyN4GUPUrkivd2fmC/OIzLVt",
      "include_colab_link": true
    },
    "kernelspec": {
      "name": "python3",
      "display_name": "Python 3"
    },
    "language_info": {
      "name": "python"
    }
  },
  "cells": [
    {
      "cell_type": "markdown",
      "metadata": {
        "id": "view-in-github",
        "colab_type": "text"
      },
      "source": [
        "<a href=\"https://colab.research.google.com/github/PSivaMallikarjun/Depression-Detection-AI-Emotion-Based-Image-Analysis/blob/main/Depression_Detection_AI_(emotion_based_image).ipynb\" target=\"_parent\"><img src=\"https://colab.research.google.com/assets/colab-badge.svg\" alt=\"Open In Colab\"/></a>"
      ]
    },
    {
      "cell_type": "code",
      "execution_count": null,
      "metadata": {
        "colab": {
          "base_uri": "https://localhost:8080/"
        },
        "id": "acyLlEEQh_xU",
        "outputId": "f7c53101-6f8c-4f2d-e551-f00d21785a5a"
      },
      "outputs": [
        {
          "output_type": "stream",
          "name": "stdout",
          "text": [
            "Processed: C:\\Users\\P SIVA MALLIKARJUN\\OneDrive\\Pictures\\editimages/image_edited.jpg\n",
            "✅ Image processing completed.\n"
          ]
        }
      ],
      "source": [
        "from PIL import Image, ImageEnhance, ImageFilter\n",
        "import os\n",
        "import shutil\n",
        "import tkinter as tk\n",
        "from tkinter import filedialog\n",
        "\n",
        "# Define input and output directories\n",
        "path = r\" Enter your path file loc. \" # Folder for unedited images\n",
        "pathOut = r\" Enter your path file loc.\"  # Folder for edited images\n",
        "\n",
        "# Create directories if they do not exist\n",
        "if not os.path.exists(path):\n",
        "    os.makedirs(path)\n",
        "\n",
        "if not os.path.exists(pathOut):\n",
        "    os.makedirs(pathOut)\n",
        "\n",
        "# Check if the input folder contains images\n",
        "image_files = [f for f in os.listdir(path) if f.lower().endswith((\".png\", \".jpg\", \".jpeg\"))]\n",
        "\n",
        "# If no images are found, prompt the user to upload one\n",
        "if not image_files:\n",
        "    print(\"No images found. Please upload an image.\")\n",
        "\n",
        "    # Open a file dialog for image selection\n",
        "    root = tk.Tk()\n",
        "    root.withdraw()  # Hide the main tkinter window\n",
        "    file_path = filedialog.askopenfilename(title=\"Select an image\", filetypes=[(\"Image files\", \"*.jpg;*.jpeg;*.png\")])\n",
        "\n",
        "    if file_path:\n",
        "        # Copy the selected image to the input folder\n",
        "        shutil.copy(file_path, path)\n",
        "        print(f\"Image uploaded successfully: {file_path}\")\n",
        "        image_files = [os.path.basename(file_path)]  # Process only this image\n",
        "    else:\n",
        "        print(\"No image uploaded. Exiting.\")\n",
        "        exit()\n",
        "\n",
        "# Process each image in the input folder\n",
        "for filename in image_files:\n",
        "    file_path = os.path.join(path, filename)\n",
        "\n",
        "    try:\n",
        "        img = Image.open(file_path)\n",
        "\n",
        "        # Apply filters: sharpen, convert to black & white, and rotate\n",
        "        edit = img.filter(ImageFilter.SHARPEN).convert('L').rotate(-90)\n",
        "\n",
        "        # Adjust contrast\n",
        "        factor = 1.5\n",
        "        enhancer = ImageEnhance.Contrast(edit)\n",
        "        edit = enhancer.enhance(factor)\n",
        "\n",
        "        # Save the edited image\n",
        "        clean_name = os.path.splitext(filename)[0]\n",
        "        output_file = os.path.join(pathOut, f\"{clean_name}_edited.jpg\")\n",
        "\n",
        "        edit.save(output_file)\n",
        "        print(f\"Processed: {output_file}\")\n",
        "\n",
        "    except Exception as e:\n",
        "        print(f\"Error processing {filename}: {e}\")\n",
        "\n",
        "print(\"✅ Image processing completed.\")\n"
      ]
    }
  ]
}